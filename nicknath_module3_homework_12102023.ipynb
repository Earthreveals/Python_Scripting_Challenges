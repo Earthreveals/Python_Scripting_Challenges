{
 "cells": [
  {
   "cell_type": "code",
   "execution_count": 16,
   "id": "19d57bd8",
   "metadata": {},
   "outputs": [
    {
     "name": "stdout",
     "output_type": "stream",
     "text": [
      "Pybank Analysis\n",
      "------------------\n",
      "Total Months: 86\n",
      "Total: $22564198\n",
      "Average Change: $-8311.11\n",
      "Greatest Increase in Profits: Aug-16 ($1862002)\n",
      "Greatest Decrease in Profits: Feb-14 ($-1825558)\n"
     ]
    }
   ],
   "source": [
    "import csv\n",
    "import os\n",
    "\n",
    "\n",
    "# Import CSV module\n",
    "csvmodule = \"budget_data.csv\"\n",
    "\n",
    "# Open the CSV file\n",
    "with open(csvmodule, newline=\"\") as csvfile:\n",
    "    csvreader = csv.reader(csvfile, delimiter=\",\")\n",
    "\n",
    "    # Skip the header row\n",
    "    next(csvreader)\n",
    "\n",
    "    # Initialize variables\n",
    "    total_months = 0\n",
    "    net_total = 0\n",
    "    previous_profit_loss = 0\n",
    "    changes = []\n",
    "    greatest_increase = [\"\", 0]\n",
    "    greatest_decrease = [\"\", 0]\n",
    "\n",
    "    # Loop through the rows of the CSV file\n",
    "    for row in csvreader:\n",
    "        # Add the total number of months included in the dataset\n",
    "        total_months += 1\n",
    "\n",
    "        # Calculate the net total amount of \"Profit/Losses\" over the entire period\n",
    "        net_total += int(row[1])\n",
    "\n",
    "        # Calculate the changes in \"Profit/Losses\" over the entire period\n",
    "        if total_months > 1:\n",
    "            change = int(row[1]) - previous_profit_loss\n",
    "            changes.append(change)\n",
    "\n",
    "            # Find the greatest increase in profits (date and amount) over the entire period\n",
    "            if change > greatest_increase[1]:\n",
    "                greatest_increase[0] = row[0]\n",
    "                greatest_increase[1] = change\n",
    "\n",
    "            # Find the greatest decrease in profits (date and amount) over the entire period\n",
    "            if change < greatest_decrease[1]:\n",
    "                greatest_decrease[0] = row[0]\n",
    "                greatest_decrease[1] = change\n",
    "\n",
    "        # Set the previous profit/loss value to the current value\n",
    "        previous_profit_loss = int(row[1])\n",
    "\n",
    "    # Calculate the average of the changes in \"Profit/Losses\" over the entire period\n",
    "    average_change = sum(changes) / len(changes)\n",
    "\n",
    "    # Print the results to the terminal\n",
    "    print(\"Pybank Analysis\")\n",
    "    print(\"------------------\")\n",
    "    print(f\"Total Months: {total_months}\")\n",
    "    print(f\"Total: ${net_total}\")\n",
    "    print(f\"Average Change: ${average_change:.2f}\")\n",
    "    print(f\"Greatest Increase in Profits: {greatest_increase[0]} (${greatest_increase[1]})\")\n",
    "    print(f\"Greatest Decrease in Profits: {greatest_decrease[0]} (${greatest_decrease[1]})\")"
   ]
  },
  {
   "cell_type": "code",
   "execution_count": null,
   "id": "3d0215fe",
   "metadata": {},
   "outputs": [],
   "source": []
  }
 ],
 "metadata": {
  "kernelspec": {
   "display_name": "Python 3 (ipykernel)",
   "language": "python",
   "name": "python3"
  },
  "language_info": {
   "codemirror_mode": {
    "name": "ipython",
    "version": 3
   },
   "file_extension": ".py",
   "mimetype": "text/x-python",
   "name": "python",
   "nbconvert_exporter": "python",
   "pygments_lexer": "ipython3",
   "version": "3.11.5"
  }
 },
 "nbformat": 4,
 "nbformat_minor": 5
}
