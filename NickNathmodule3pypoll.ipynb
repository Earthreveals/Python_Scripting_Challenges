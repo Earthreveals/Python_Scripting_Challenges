{
 "cells": [
  {
   "cell_type": "code",
   "execution_count": 7,
   "id": "f02536ca",
   "metadata": {},
   "outputs": [
    {
     "name": "stdout",
     "output_type": "stream",
     "text": [
      "Pypoll Analysis\n",
      "---------------\n",
      "Total Votes: 369711\n",
      "Candidates who received votes:\n",
      "Charles Casper Stockham\n",
      "Diana DeGette\n",
      "Raymon Anthony Doane\n",
      "Percentage of votes each candidate won:\n",
      "Charles Casper Stockham: 23.049%\n",
      "Diana DeGette: 73.812%\n",
      "Raymon Anthony Doane: 3.139%\n",
      "Total number of votes each candidate won:\n",
      "Charles Casper Stockham: 85213\n",
      "Diana DeGette: 272892\n",
      "Raymon Anthony Doane: 11606\n",
      "Winner: Diana DeGette\n"
     ]
    }
   ],
   "source": [
    " import csv\n",
    " import os\n",
    "\n",
    "\n",
    "# Open the CSV file\n",
    "with open('election_data.csv', 'r') as file:\n",
    "    reader = csv.reader(file)\n",
    "\n",
    "    # Skip the header row\n",
    "    next(reader)\n",
    "\n",
    "    # Initialize variables\n",
    "    total_votes = 0\n",
    "    candidates = {}\n",
    "    max_votes = 0\n",
    "    winner = \"\"\n",
    "\n",
    "    # Loop through each row in the CSV file\n",
    "    for row in reader:\n",
    "        # Add the total number of votes cast\n",
    "        total_votes += 1\n",
    "\n",
    "        # Get the candidate name from the row\n",
    "        candidate = row[2]\n",
    "\n",
    "        # If the candidate is not in the dictionary, add them\n",
    "        if candidate not in candidates:\n",
    "            candidates[candidate] = 0\n",
    "\n",
    "        # add the candidate's vote count\n",
    "        candidates[candidate] += 1\n",
    "        \n",
    "    print(\"Pypoll Analysis\")\n",
    "    print(\"---------------\")\n",
    "\n",
    "    # Print the total number of votes cast\n",
    "    print(f\"Total Votes: {total_votes}\")\n",
    "\n",
    "    # Print the list of candidates who received votes\n",
    "    print(\"Candidates who received votes:\")\n",
    "    for candidate in candidates:\n",
    "        print(candidate)\n",
    "\n",
    "    # Print the percentage of votes each candidate won\n",
    "    print(\"Percentage of votes each candidate won:\")\n",
    "    for candidate in candidates:\n",
    "        votes = candidates[candidate]\n",
    "        percentage = (votes / total_votes) * 100\n",
    "        print(f\"{candidate}: {percentage:.3f}%\")\n",
    "\n",
    "        # Keep track of the winner\n",
    "        if votes > max_votes:\n",
    "            max_votes = votes\n",
    "            winner = candidate\n",
    "\n",
    "    # Print the total number of votes each candidate won\n",
    "    \n",
    "    print(\"Total number of votes each candidate won:\")\n",
    "    for candidate in candidates:\n",
    "        votes = candidates[candidate]\n",
    "        print(f\"{candidate}: {votes}\")\n",
    "\n",
    "    # Print the winner of the election based on popular vote\n",
    "    print(f\"Winner: {winner}\")"
   ]
  },
  {
   "cell_type": "code",
   "execution_count": null,
   "id": "9b7299b4",
   "metadata": {},
   "outputs": [],
   "source": []
  }
 ],
 "metadata": {
  "kernelspec": {
   "display_name": "Python 3 (ipykernel)",
   "language": "python",
   "name": "python3"
  },
  "language_info": {
   "codemirror_mode": {
    "name": "ipython",
    "version": 3
   },
   "file_extension": ".py",
   "mimetype": "text/x-python",
   "name": "python",
   "nbconvert_exporter": "python",
   "pygments_lexer": "ipython3",
   "version": "3.11.5"
  }
 },
 "nbformat": 4,
 "nbformat_minor": 5
}
